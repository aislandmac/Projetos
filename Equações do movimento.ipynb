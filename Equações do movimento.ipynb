{
  "nbformat": 4,
  "nbformat_minor": 0,
  "metadata": {
    "colab": {
      "provenance": []
    },
    "kernelspec": {
      "name": "python3",
      "display_name": "Python 3"
    },
    "language_info": {
      "name": "python"
    }
  },
  "cells": [
    {
      "cell_type": "code",
      "source": [
        "def MU (posiçãoinicial, velocidade, tempo):\n",
        "  posição = (posiçãoinicial + velocidade * tempo)\n",
        "  print (posição)\n",
        "\n",
        "def MUV (posiçãoinicial, velocidade, aceleração, tempo):\n",
        "  posição = (posiçãoinicial + (velocidade * tempo) + ((aceleração / 2) * tempo ** 2))\n",
        "  print (posição)\n",
        "\n",
        "\n",
        "\n",
        "import time\n",
        "\n",
        "opcao = int (input (\"Você deseja resolver um problema de Movimento Uniforme (MU = 0) ou de Movimento Uniformemente Variado (MUV = 1)? Para encerrar pressione (2) \\n\"))\n",
        "\n",
        "while True:\n",
        "  if opcao == 0:\n",
        "    print (\"\\nOlá, seja bem vindo! \\nVamos determinar a posição de um móvel a partir de sua posição inicial, velocidade e tempo:\")\n",
        "    time.sleep (1)\n",
        "\n",
        "    x = int (input (\"\\nQual é a posição inicial em metros? \\n\"))\n",
        "    time.sleep (1)\n",
        "\n",
        "    v = int (input (\"\\nQual é a velocidade, em metros por segundo, do móvel? \\n\"))\n",
        "    time.sleep (1)\n",
        "\n",
        "    t = int (input (\"\\nQual é o tempo, em segundos, gasto no movimento? \\n\"))\n",
        "    time.sleep (1)\n",
        "\n",
        "    print (\"\\nA posição final do móvel, em metros, será: \")\n",
        "    MU (x,v,t)\n",
        "    print (\"_______________________________________________________________________________________________________________\\n\")\n",
        "    time.sleep (1)\n",
        "\n",
        "    opcao = int (input (\"\\nVocê gostaria de determinar uma posição no MU (0), no MUV (1) ou encerrar o programa (2): \\n \"))\n",
        "\n",
        "  elif opcao == 1:\n",
        "    print (\"\\nOlá, seja bem vindo! \\nVamos determinar a posição de um móvel a partir de sua posição inicial, velocidade, aceleração e tempo:\")\n",
        "    time.sleep (1)\n",
        "\n",
        "    x = int (input (\"\\nQual é a posição inicial em metros? \\n\"))\n",
        "    time.sleep (1)\n",
        "\n",
        "    v = int (input (\"\\nQual é a velocidade, em metros por segundo, do móvel? \\n\"))\n",
        "    time.sleep (1)\n",
        "\n",
        "    a = int (input (\"\\nQual é a aceleração, em metros por segundo ao quadrado, do móvel? \\n\"))\n",
        "    time.sleep (1)\n",
        "\n",
        "    t = int (input (\"\\nQual é o tempo, em segundos, gasto no movimento? \\n\"))\n",
        "    time.sleep (1)\n",
        "\n",
        "    print (\"\\nA posição final do móvel, em metros, será: \")\n",
        "\n",
        "    MUV (x,v,a,t)\n",
        "    print (\"_______________________________________________________________________________________________________________\\n\")\n",
        "    time.sleep (1)\n",
        "\n",
        "    opcao = int (input (\"\\nVocê gostaria de determinar uma posição no MU (0), no MUV (1) ou encerrar o programa (2): \\n \"))\n",
        "\n",
        "  else:\n",
        "    break\n"
      ],
      "metadata": {
        "id": "MKYThbn_Is5B",
        "colab": {
          "base_uri": "https://localhost:8080/",
          "height": 686
        },
        "outputId": "c372161b-b857-4b9e-c434-66dafe813d9d"
      },
      "execution_count": null,
      "outputs": [
        {
          "output_type": "stream",
          "name": "stdout",
          "text": [
            "Você deseja resolver um problema de Movimento Uniforme (MU = 0) ou de Movimento Uniformemente Variado (MUV = 1)? \n",
            "0\n",
            "\n",
            "Olá, seja bem vindo! \n",
            "Vamos determinar a posição de um móvel a partir de sua posição inicial, velocidade e tempo:\n",
            "\n",
            "Qual é a posição inicial em metros? \n",
            "1\n",
            "\n",
            "Qual é a velocidade, em metros por segundo, do móvel? \n",
            "2\n",
            "\n",
            "Qual é o tempo, em segundos, gasto no movimento? \n",
            "6\n",
            "\n",
            "A posição final do móvel, em metros, será: \n",
            "13\n",
            "_______________________________________________________________________________________________________________\n",
            "\n"
          ]
        },
        {
          "output_type": "error",
          "ename": "KeyboardInterrupt",
          "evalue": "Interrupted by user",
          "traceback": [
            "\u001b[0;31m---------------------------------------------------------------------------\u001b[0m",
            "\u001b[0;31mKeyboardInterrupt\u001b[0m                         Traceback (most recent call last)",
            "\u001b[0;32m<ipython-input-14-e52c8a060837>\u001b[0m in \u001b[0;36m<cell line: 15>\u001b[0;34m()\u001b[0m\n\u001b[1;32m     32\u001b[0m     \u001b[0mtime\u001b[0m\u001b[0;34m.\u001b[0m\u001b[0msleep\u001b[0m \u001b[0;34m(\u001b[0m\u001b[0;36m1\u001b[0m\u001b[0;34m)\u001b[0m\u001b[0;34m\u001b[0m\u001b[0;34m\u001b[0m\u001b[0m\n\u001b[1;32m     33\u001b[0m \u001b[0;34m\u001b[0m\u001b[0m\n\u001b[0;32m---> 34\u001b[0;31m     \u001b[0mopcao\u001b[0m \u001b[0;34m=\u001b[0m \u001b[0mint\u001b[0m \u001b[0;34m(\u001b[0m\u001b[0minput\u001b[0m \u001b[0;34m(\u001b[0m\u001b[0;34m\"\\nVocê gostaria de determinar uma posição no MU (0), no MUV (1) ou encerrar o programa (2): \\n \"\u001b[0m\u001b[0;34m)\u001b[0m\u001b[0;34m)\u001b[0m\u001b[0;34m\u001b[0m\u001b[0;34m\u001b[0m\u001b[0m\n\u001b[0m\u001b[1;32m     35\u001b[0m \u001b[0;34m\u001b[0m\u001b[0m\n\u001b[1;32m     36\u001b[0m   \u001b[0;32melif\u001b[0m \u001b[0mopcao\u001b[0m \u001b[0;34m==\u001b[0m \u001b[0;36m1\u001b[0m\u001b[0;34m:\u001b[0m\u001b[0;34m\u001b[0m\u001b[0;34m\u001b[0m\u001b[0m\n",
            "\u001b[0;32m/usr/local/lib/python3.10/dist-packages/ipykernel/kernelbase.py\u001b[0m in \u001b[0;36mraw_input\u001b[0;34m(self, prompt)\u001b[0m\n\u001b[1;32m    849\u001b[0m                 \u001b[0;34m\"raw_input was called, but this frontend does not support input requests.\"\u001b[0m\u001b[0;34m\u001b[0m\u001b[0;34m\u001b[0m\u001b[0m\n\u001b[1;32m    850\u001b[0m             )\n\u001b[0;32m--> 851\u001b[0;31m         return self._input_request(str(prompt),\n\u001b[0m\u001b[1;32m    852\u001b[0m             \u001b[0mself\u001b[0m\u001b[0;34m.\u001b[0m\u001b[0m_parent_ident\u001b[0m\u001b[0;34m,\u001b[0m\u001b[0;34m\u001b[0m\u001b[0;34m\u001b[0m\u001b[0m\n\u001b[1;32m    853\u001b[0m             \u001b[0mself\u001b[0m\u001b[0;34m.\u001b[0m\u001b[0m_parent_header\u001b[0m\u001b[0;34m,\u001b[0m\u001b[0;34m\u001b[0m\u001b[0;34m\u001b[0m\u001b[0m\n",
            "\u001b[0;32m/usr/local/lib/python3.10/dist-packages/ipykernel/kernelbase.py\u001b[0m in \u001b[0;36m_input_request\u001b[0;34m(self, prompt, ident, parent, password)\u001b[0m\n\u001b[1;32m    893\u001b[0m             \u001b[0;32mexcept\u001b[0m \u001b[0mKeyboardInterrupt\u001b[0m\u001b[0;34m:\u001b[0m\u001b[0;34m\u001b[0m\u001b[0;34m\u001b[0m\u001b[0m\n\u001b[1;32m    894\u001b[0m                 \u001b[0;31m# re-raise KeyboardInterrupt, to truncate traceback\u001b[0m\u001b[0;34m\u001b[0m\u001b[0;34m\u001b[0m\u001b[0m\n\u001b[0;32m--> 895\u001b[0;31m                 \u001b[0;32mraise\u001b[0m \u001b[0mKeyboardInterrupt\u001b[0m\u001b[0;34m(\u001b[0m\u001b[0;34m\"Interrupted by user\"\u001b[0m\u001b[0;34m)\u001b[0m \u001b[0;32mfrom\u001b[0m \u001b[0;32mNone\u001b[0m\u001b[0;34m\u001b[0m\u001b[0;34m\u001b[0m\u001b[0m\n\u001b[0m\u001b[1;32m    896\u001b[0m             \u001b[0;32mexcept\u001b[0m \u001b[0mException\u001b[0m \u001b[0;32mas\u001b[0m \u001b[0me\u001b[0m\u001b[0;34m:\u001b[0m\u001b[0;34m\u001b[0m\u001b[0;34m\u001b[0m\u001b[0m\n\u001b[1;32m    897\u001b[0m                 \u001b[0mself\u001b[0m\u001b[0;34m.\u001b[0m\u001b[0mlog\u001b[0m\u001b[0;34m.\u001b[0m\u001b[0mwarning\u001b[0m\u001b[0;34m(\u001b[0m\u001b[0;34m\"Invalid Message:\"\u001b[0m\u001b[0;34m,\u001b[0m \u001b[0mexc_info\u001b[0m\u001b[0;34m=\u001b[0m\u001b[0;32mTrue\u001b[0m\u001b[0;34m)\u001b[0m\u001b[0;34m\u001b[0m\u001b[0;34m\u001b[0m\u001b[0m\n",
            "\u001b[0;31mKeyboardInterrupt\u001b[0m: Interrupted by user"
          ]
        }
      ]
    },
    {
      "cell_type": "code",
      "source": [
        "1"
      ],
      "metadata": {
        "id": "GiPu2BUDJQPH"
      },
      "execution_count": null,
      "outputs": []
    }
  ]
}