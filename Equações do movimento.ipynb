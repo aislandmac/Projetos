{
  "nbformat": 4,
  "nbformat_minor": 0,
  "metadata": {
    "colab": {
      "provenance": []
    },
    "kernelspec": {
      "name": "python3",
      "display_name": "Python 3"
    },
    "language_info": {
      "name": "python"
    }
  },
  "cells": [
    {
      "cell_type": "code",
      "source": [
        "def MU (posiçãoinicial, velocidade, tempo):\n",
        "  posição = (posiçãoinicial + velocidade * tempo)\n",
        "  print (posição)\n",
        "\n",
        "def MUV (posiçãoinicial, velocidade, aceleração, tempo):\n",
        "  posição = (posiçãoinicial + (velocidade * tempo) + ((aceleração / 2) * tempo ** 2))\n",
        "  print (posição)\n",
        "\n",
        "\n",
        "\n",
        "import time\n",
        "\n",
        "opcao = int (input (\"Você deseja resolver um problema de Movimento Uniforme (MU = 0), de Movimento Uniformemente Variado (MUV = 1)? Para encerrar pressione (2) \\n\"))\n",
        "\n",
        "while True:\n",
        "  if opcao == 0:\n",
        "    print (\"\\nOlá, seja bem vindo! \\nVamos determinar a posição de um móvel a partir de sua posição inicial, velocidade e tempo:\")\n",
        "    time.sleep (1)\n",
        "\n",
        "    x = int (input (\"\\nQual é a posição inicial em metros? \\n\"))\n",
        "    time.sleep (1)\n",
        "\n",
        "    v = int (input (\"\\nQual é a velocidade, em metros por segundo, do móvel? \\n\"))\n",
        "    time.sleep (1)\n",
        "\n",
        "    t = int (input (\"\\nQual é o tempo, em segundos, gasto no movimento? \\n\"))\n",
        "    time.sleep (1)\n",
        "\n",
        "    print (\"\\nA posição final do móvel, em metros, será: \")\n",
        "    MU (x,v,t)\n",
        "    print (\"_______________________________________________________________________________________________________________\\n\")\n",
        "    time.sleep (1)\n",
        "\n",
        "    opcao = int (input (\"\\nVocê gostaria de determinar uma posição no MU (0), no MUV (1) ou encerrar o programa (2): \\n \"))\n",
        "\n",
        "  elif opcao == 1:\n",
        "    print (\"\\nOlá, seja bem vindo! \\nVamos determinar a posição de um móvel a partir de sua posição inicial, velocidade, aceleração e tempo:\")\n",
        "    time.sleep (1)\n",
        "\n",
        "    x = int (input (\"\\nQual é a posição inicial em metros? \\n\"))\n",
        "    time.sleep (1)\n",
        "\n",
        "    v = int (input (\"\\nQual é a velocidade, em metros por segundo, do móvel? \\n\"))\n",
        "    time.sleep (1)\n",
        "\n",
        "    a = int (input (\"\\nQual é a aceleração, em metros por segundo ao quadrado, do móvel? \\n\"))\n",
        "    time.sleep (1)\n",
        "\n",
        "    t = int (input (\"\\nQual é o tempo, em segundos, gasto no movimento? \\n\"))\n",
        "    time.sleep (1)\n",
        "\n",
        "    print (\"\\nA posição final do móvel, em metros, será: \")\n",
        "\n",
        "    MUV (x,v,a,t)\n",
        "    print (\"_______________________________________________________________________________________________________________\\n\")\n",
        "    time.sleep (1)\n",
        "\n",
        "    opcao = int (input (\"\\nVocê gostaria de determinar uma posição no MU (0), no MUV (1) ou encerrar o programa (2): \\n \"))\n",
        "\n",
        "  else:\n",
        "    break\n"
      ],
      "metadata": {
        "id": "MKYThbn_Is5B",
        "colab": {
          "base_uri": "https://localhost:8080/"
        },
        "outputId": "25cbaf8b-3f76-4e75-df6d-cbbde4808109"
      },
      "execution_count": 3,
      "outputs": [
        {
          "name": "stdout",
          "output_type": "stream",
          "text": [
            "Você deseja resolver um problema de Movimento Uniforme (MU = 0), de Movimento Uniformemente Variado (MUV = 1)? Para encerrar pressione (2) \n",
            "1\n",
            "\n",
            "Olá, seja bem vindo! \n",
            "Vamos determinar a posição de um móvel a partir de sua posição inicial, velocidade, aceleração e tempo:\n",
            "\n",
            "Qual é a posição inicial em metros? \n",
            "2\n",
            "\n",
            "Qual é a velocidade, em metros por segundo, do móvel? \n",
            "2\n",
            "\n",
            "Qual é a aceleração, em metros por segundo ao quadrado, do móvel? \n",
            "2\n",
            "\n",
            "Qual é o tempo, em segundos, gasto no movimento? \n",
            "2\n",
            "\n",
            "A posição final do móvel, em metros, será: \n",
            "10.0\n",
            "_______________________________________________________________________________________________________________\n",
            "\n",
            "\n",
            "Você gostaria de determinar uma posição no MU (0), no MUV (1) ou encerrar o programa (2): \n",
            " 0\n",
            "\n",
            "Olá, seja bem vindo! \n",
            "Vamos determinar a posição de um móvel a partir de sua posição inicial, velocidade e tempo:\n",
            "\n",
            "Qual é a posição inicial em metros? \n",
            "3\n",
            "\n",
            "Qual é a velocidade, em metros por segundo, do móvel? \n",
            "4\n",
            "\n",
            "Qual é o tempo, em segundos, gasto no movimento? \n",
            "6\n",
            "\n",
            "A posição final do móvel, em metros, será: \n",
            "27\n",
            "_______________________________________________________________________________________________________________\n",
            "\n",
            "\n",
            "Você gostaria de determinar uma posição no MU (0), no MUV (1) ou encerrar o programa (2): \n",
            " 2\n"
          ]
        }
      ]
    },
    {
      "cell_type": "code",
      "source": [
        "2"
      ],
      "metadata": {
        "id": "y4w1Pp7Nqmgm"
      },
      "execution_count": null,
      "outputs": []
    },
    {
      "cell_type": "code",
      "source": [
        "1"
      ],
      "metadata": {
        "id": "GiPu2BUDJQPH"
      },
      "execution_count": null,
      "outputs": []
    }
  ]
}